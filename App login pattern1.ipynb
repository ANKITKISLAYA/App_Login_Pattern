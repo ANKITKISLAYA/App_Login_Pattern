{
 "cells": [
  {
   "cell_type": "code",
   "execution_count": 1,
   "metadata": {},
   "outputs": [],
   "source": []
  },
  {
   "cell_type": "markdown",
   "metadata": {},
   "source": [
    "# Analyzing the App Login Pattern of customer"
   ]
  },
  {
   "cell_type": "code",
   "execution_count": null,
   "metadata": {},
   "outputs": [],
   "source": []
  },
  {
   "cell_type": "code",
   "execution_count": null,
   "metadata": {},
   "outputs": [],
   "source": []
  },
  {
   "cell_type": "code",
   "execution_count": 1,
   "metadata": {},
   "outputs": [],
   "source": [
    "from pymongo import MongoClient \n",
    "import pandas as pd\n",
    "import sys\n",
    "import numpy as np"
   ]
  },
  {
   "cell_type": "code",
   "execution_count": 6,
   "metadata": {},
   "outputs": [],
   "source": [
    "import time\n"
   ]
  },
  {
   "cell_type": "code",
   "execution_count": null,
   "metadata": {},
   "outputs": [],
   "source": []
  },
  {
   "cell_type": "markdown",
   "metadata": {},
   "source": [
    "## Reading the data from mongodb"
   ]
  },
  {
   "cell_type": "code",
   "execution_count": null,
   "metadata": {},
   "outputs": [],
   "source": []
  },
  {
   "cell_type": "code",
   "execution_count": 7,
   "metadata": {},
   "outputs": [
    {
     "name": "stdout",
     "output_type": "stream",
     "text": [
      "Connected successfully!!!\n"
     ]
    }
   ],
   "source": [
    "try: \n",
    "    conn = MongoClient('192.168.1.72', 27017) \n",
    "    print(\"Connected successfully!!!\") \n",
    "except:   \n",
    "    print(\"Could not connect to MongoDB\") \n",
    "\n"
   ]
  },
  {
   "cell_type": "code",
   "execution_count": null,
   "metadata": {},
   "outputs": [],
   "source": []
  },
  {
   "cell_type": "code",
   "execution_count": 8,
   "metadata": {},
   "outputs": [],
   "source": [
    "#Ankit = conn.database \n"
   ]
  },
  {
   "cell_type": "code",
   "execution_count": null,
   "metadata": {},
   "outputs": [],
   "source": []
  },
  {
   "cell_type": "code",
   "execution_count": 9,
   "metadata": {},
   "outputs": [],
   "source": [
    "mydb = conn.SK\n",
    "\n"
   ]
  },
  {
   "cell_type": "code",
   "execution_count": null,
   "metadata": {},
   "outputs": [],
   "source": []
  },
  {
   "cell_type": "code",
   "execution_count": null,
   "metadata": {},
   "outputs": [],
   "source": []
  },
  {
   "cell_type": "code",
   "execution_count": 11,
   "metadata": {},
   "outputs": [
    {
     "name": "stdout",
     "output_type": "stream",
     "text": [
      "0.0012651000000118984 seconds\n"
     ]
    },
    {
     "name": "stderr",
     "output_type": "stream",
     "text": [
      "C:\\Users\\Ankit\\Anaconda3\\lib\\site-packages\\ipykernel_launcher.py:3: DeprecationWarning: time.clock has been deprecated in Python 3.3 and will be removed from Python 3.8: use time.perf_counter or time.process_time instead\n",
      "  This is separate from the ipykernel package so we can avoid doing imports until\n",
      "C:\\Users\\Ankit\\Anaconda3\\lib\\site-packages\\ipykernel_launcher.py:38: DeprecationWarning: time.clock has been deprecated in Python 3.3 and will be removed from Python 3.8: use time.perf_counter or time.process_time instead\n"
     ]
    }
   ],
   "source": [
    "# For December \n",
    "\n",
    "start_time = time.clock()\n",
    "\n",
    "\n",
    "collection1 = mydb.TraceLog_11012019\n",
    "collection2 = mydb.TraceLog_11022019\n",
    "collection3 = mydb.TraceLog_11032019\n",
    "collection4 = mydb.TraceLog_11042019\n",
    "collection5 = mydb.TraceLog_11052019\n",
    "collection6 = mydb.TraceLog_11062019\n",
    "collection7 = mydb.TraceLog_11072019\n",
    "collection8 = mydb.TraceLog_11082019\n",
    "collection9 = mydb.TraceLog_11092019\n",
    "collection10 = mydb.TraceLog_11102019\n",
    "collection11 = mydb.TraceLog_11112019\n",
    "collection12 = mydb.TraceLog_11122019\n",
    "collection13 = mydb.TraceLog_11132019\n",
    "collection14 = mydb.TraceLog_11142019\n",
    "collection15 = mydb.TraceLog_11152019\n",
    "collection16 = mydb.TraceLog_11162019\n",
    "collection17 = mydb.TraceLog_11172019\n",
    "collection18 = mydb.TraceLog_11182019\n",
    "collection19 = mydb.TraceLog_11192019\n",
    "collection20 = mydb.TraceLog_11202019\n",
    "collection21 = mydb.TraceLog_11212019\n",
    "collection22 = mydb.TraceLog_11222019\n",
    "collection23 = mydb.TraceLog_11232019\n",
    "collection24 = mydb.TraceLog_11242019\n",
    "collection25 = mydb.TraceLog_11252019\n",
    "collection26 = mydb.TraceLog_11262019\n",
    "collection27 = mydb.TraceLog_11272019\n",
    "collection28 = mydb.TraceLog_11282019\n",
    "collection29 = mydb.TraceLog_11292019\n",
    "collection30 = mydb.TraceLog_11302019\n",
    "#collection31 = mydb.TraceLog_11312019\n",
    "\n",
    "print (time.clock() - start_time, \"seconds\")\n"
   ]
  },
  {
   "cell_type": "code",
   "execution_count": null,
   "metadata": {},
   "outputs": [],
   "source": []
  },
  {
   "cell_type": "code",
   "execution_count": null,
   "metadata": {},
   "outputs": [],
   "source": []
  },
  {
   "cell_type": "code",
   "execution_count": null,
   "metadata": {},
   "outputs": [],
   "source": []
  },
  {
   "cell_type": "code",
   "execution_count": null,
   "metadata": {},
   "outputs": [],
   "source": []
  },
  {
   "cell_type": "code",
   "execution_count": null,
   "metadata": {},
   "outputs": [
    {
     "name": "stderr",
     "output_type": "stream",
     "text": [
      "C:\\Users\\Ankit\\Anaconda3\\lib\\site-packages\\ipykernel_launcher.py:1: DeprecationWarning: time.clock has been deprecated in Python 3.3 and will be removed from Python 3.8: use time.perf_counter or time.process_time instead\n",
      "  \"\"\"Entry point for launching an IPython kernel.\n"
     ]
    }
   ],
   "source": [
    "start_time = time.clock()\n",
    "\n",
    "\n",
    "df1 = pd.DataFrame(list(collection1.find({},{\"UserName\":1,\"CreatedDate\":1,\"_id\":0})))\n",
    "df2 = pd.DataFrame(list(collection2.find({},{\"UserName\":1,\"CreatedDate\":1,\"_id\":0})))\n",
    "df3 = pd.DataFrame(list(collection3.find({},{\"UserName\":1,\"CreatedDate\":1,\"_id\":0})))\n",
    "df4 = pd.DataFrame(list(collection4.find({},{\"UserName\":1,\"CreatedDate\":1,\"_id\":0})))\n",
    "df5 = pd.DataFrame(list(collection5.find({},{\"UserName\":1,\"CreatedDate\":1,\"_id\":0})))\n",
    "df6 = pd.DataFrame(list(collection6.find({},{\"UserName\":1,\"CreatedDate\":1,\"_id\":0})))\n",
    "df7 = pd.DataFrame(list(collection7.find({},{\"UserName\":1,\"CreatedDate\":1,\"_id\":0})))\n",
    "df8 = pd.DataFrame(list(collection8.find({},{\"UserName\":1,\"CreatedDate\":1,\"_id\":0})))\n",
    "df9 = pd.DataFrame(list(collection9.find({},{\"UserName\":1,\"CreatedDate\":1,\"_id\":0})))\n",
    "df10 = pd.DataFrame(list(collection10.find({},{\"UserName\":1,\"CreatedDate\":1,\"_id\":0})))\n",
    "df11 = pd.DataFrame(list(collection11.find({},{\"UserName\":1,\"CreatedDate\":1,\"_id\":0})))\n",
    "df12 = pd.DataFrame(list(collection12.find({},{\"UserName\":1,\"CreatedDate\":1,\"_id\":0})))\n",
    "df13 = pd.DataFrame(list(collection13.find({},{\"UserName\":1,\"CreatedDate\":1,\"_id\":0})))\n",
    "df14 = pd.DataFrame(list(collection14.find({},{\"UserName\":1,\"CreatedDate\":1,\"_id\":0})))\n",
    "df15 = pd.DataFrame(list(collection15.find({},{\"UserName\":1,\"CreatedDate\":1,\"_id\":0})))\n",
    "df16 = pd.DataFrame(list(collection16.find({},{\"UserName\":1,\"CreatedDate\":1,\"_id\":0})))\n",
    "df17 = pd.DataFrame(list(collection17.find({},{\"UserName\":1,\"CreatedDate\":1,\"_id\":0})))\n",
    "df18 = pd.DataFrame(list(collection18.find({},{\"UserName\":1,\"CreatedDate\":1,\"_id\":0})))\n",
    "df19 = pd.DataFrame(list(collection19.find({},{\"UserName\":1,\"CreatedDate\":1,\"_id\":0})))\n",
    "df20 = pd.DataFrame(list(collection20.find({},{\"UserName\":1,\"CreatedDate\":1,\"_id\":0})))\n",
    "df21 = pd.DataFrame(list(collection21.find({},{\"UserName\":1,\"CreatedDate\":1,\"_id\":0})))\n",
    "df22 = pd.DataFrame(list(collection22.find({},{\"UserName\":1,\"CreatedDate\":1,\"_id\":0})))\n",
    "df23 = pd.DataFrame(list(collection23.find({},{\"UserName\":1,\"CreatedDate\":1,\"_id\":0})))\n",
    "df24 = pd.DataFrame(list(collection24.find({},{\"UserName\":1,\"CreatedDate\":1,\"_id\":0})))\n",
    "df25 = pd.DataFrame(list(collection25.find({},{\"UserName\":1,\"CreatedDate\":1,\"_id\":0})))\n",
    "df26 = pd.DataFrame(list(collection26.find({},{\"UserName\":1,\"CreatedDate\":1,\"_id\":0})))\n",
    "df27 = pd.DataFrame(list(collection27.find({},{\"UserName\":1,\"CreatedDate\":1,\"_id\":0})))\n",
    "df28 = pd.DataFrame(list(collection28.find({},{\"UserName\":1,\"CreatedDate\":1,\"_id\":0})))\n",
    "df29 = pd.DataFrame(list(collection29.find({},{\"UserName\":1,\"CreatedDate\":1,\"_id\":0})))\n",
    "df30 = pd.DataFrame(list(collection30.find({},{\"UserName\":1,\"CreatedDate\":1,\"_id\":0})))\n",
    "#df31 = pd.DataFrame(list(collection31.find({},{\"UserName\":1,\"CreatedDate\":1,\"_id\":0})))\n",
    "\n",
    "\n",
    "# df1 = pd.DataFrame(list(collection.find({},{\"UserName\":1,\"CreatedDate\":1,\"_id\":0})))\n",
    "# df1 = pd.DataFrame(list(collection.find({},{\"UserName\":1,\"CreatedDate\":1,\"_id\":0})))\n",
    "# df1 = pd.DataFrame(list(collection.find({},{\"UserName\":1,\"CreatedDate\":1,\"_id\":0})))\n",
    "# df1 = pd.DataFrame(list(collection.find({},{\"UserName\":1,\"CreatedDate\":1,\"_id\":0})))\n",
    "# df1 = pd.DataFrame(list(collection.find({},{\"UserName\":1,\"CreatedDate\":1,\"_id\":0})))\n",
    "# df1 = pd.DataFrame(list(collection.find({},{\"UserName\":1,\"CreatedDate\":1,\"_id\":0})))\n",
    "# df1 = pd.DataFrame(list(collection.find({},{\"UserName\":1,\"CreatedDate\":1,\"_id\":0})))\n",
    "# df1 = pd.DataFrame(list(collection.find({},{\"UserName\":1,\"CreatedDate\":1,\"_id\":0})))\n",
    "# df1 = pd.DataFrame(list(collection.find({},{\"UserName\":1,\"CreatedDate\":1,\"_id\":0})))\n",
    "# df1 = pd.DataFrame(list(collection.find({},{\"UserName\":1,\"CreatedDate\":1,\"_id\":0})))\n",
    "# df1 = pd.DataFrame(list(collection.find({},{\"UserName\":1,\"CreatedDate\":1,\"_id\":0})))\n",
    "\n",
    "print (time.clock() - start_time, \"seconds\")\n",
    "\n"
   ]
  },
  {
   "cell_type": "code",
   "execution_count": null,
   "metadata": {},
   "outputs": [],
   "source": []
  },
  {
   "cell_type": "code",
   "execution_count": null,
   "metadata": {},
   "outputs": [],
   "source": []
  },
  {
   "cell_type": "code",
   "execution_count": null,
   "metadata": {},
   "outputs": [],
   "source": [
    "frames = [df1,df2,df3,df4,df5,df6,df7,df8,df9,df10,df11,df12,df13,df14,df15,df16,df17,df18,df19,df20,df21,df22,df23,df24,df25,df26,df27,df28,df29,df30]\n",
    "df = pd.concat(frames)\n"
   ]
  },
  {
   "cell_type": "code",
   "execution_count": null,
   "metadata": {},
   "outputs": [],
   "source": []
  },
  {
   "cell_type": "code",
   "execution_count": null,
   "metadata": {},
   "outputs": [],
   "source": []
  },
  {
   "cell_type": "code",
   "execution_count": null,
   "metadata": {},
   "outputs": [],
   "source": [
    "df.to_csv('Dataset1.csv') "
   ]
  },
  {
   "cell_type": "code",
   "execution_count": null,
   "metadata": {},
   "outputs": [],
   "source": []
  },
  {
   "cell_type": "code",
   "execution_count": null,
   "metadata": {},
   "outputs": [],
   "source": [
    "#df_csv = pd.read_csv('Dataset1.csv')"
   ]
  },
  {
   "cell_type": "code",
   "execution_count": null,
   "metadata": {},
   "outputs": [],
   "source": []
  },
  {
   "cell_type": "markdown",
   "metadata": {},
   "source": [
    "##  Data Processing and data cleaning"
   ]
  },
  {
   "cell_type": "code",
   "execution_count": null,
   "metadata": {},
   "outputs": [],
   "source": []
  },
  {
   "cell_type": "code",
   "execution_count": 11,
   "metadata": {},
   "outputs": [],
   "source": [
    "#df = pd.read_csv('Dataset1.csv')"
   ]
  },
  {
   "cell_type": "code",
   "execution_count": null,
   "metadata": {},
   "outputs": [],
   "source": []
  },
  {
   "cell_type": "code",
   "execution_count": 12,
   "metadata": {},
   "outputs": [],
   "source": [
    "df.replace('', np.nan, inplace=True)\n"
   ]
  },
  {
   "cell_type": "code",
   "execution_count": null,
   "metadata": {},
   "outputs": [],
   "source": []
  },
  {
   "cell_type": "code",
   "execution_count": 13,
   "metadata": {},
   "outputs": [
    {
     "data": {
      "text/html": [
       "<div>\n",
       "<style scoped>\n",
       "    .dataframe tbody tr th:only-of-type {\n",
       "        vertical-align: middle;\n",
       "    }\n",
       "\n",
       "    .dataframe tbody tr th {\n",
       "        vertical-align: top;\n",
       "    }\n",
       "\n",
       "    .dataframe thead th {\n",
       "        text-align: right;\n",
       "    }\n",
       "</style>\n",
       "<table border=\"1\" class=\"dataframe\">\n",
       "  <thead>\n",
       "    <tr style=\"text-align: right;\">\n",
       "      <th></th>\n",
       "      <th>UserName</th>\n",
       "      <th>CreatedDate</th>\n",
       "    </tr>\n",
       "  </thead>\n",
       "  <tbody>\n",
       "    <tr>\n",
       "      <td>0</td>\n",
       "      <td>8871888734-piyush jaishwal</td>\n",
       "      <td>2019-11-30 18:30:00.429</td>\n",
       "    </tr>\n",
       "    <tr>\n",
       "      <td>1</td>\n",
       "      <td>8218816084</td>\n",
       "      <td>2019-11-30 18:30:01.077</td>\n",
       "    </tr>\n",
       "    <tr>\n",
       "      <td>2</td>\n",
       "      <td>9424445828-Narendra Sahu</td>\n",
       "      <td>2019-11-30 18:30:01.082</td>\n",
       "    </tr>\n",
       "    <tr>\n",
       "      <td>3</td>\n",
       "      <td>8218816084</td>\n",
       "      <td>2019-11-30 18:30:01.087</td>\n",
       "    </tr>\n",
       "    <tr>\n",
       "      <td>4</td>\n",
       "      <td>8218816084</td>\n",
       "      <td>2019-11-30 18:30:01.119</td>\n",
       "    </tr>\n",
       "    <tr>\n",
       "      <td>...</td>\n",
       "      <td>...</td>\n",
       "      <td>...</td>\n",
       "    </tr>\n",
       "    <tr>\n",
       "      <td>1177245</td>\n",
       "      <td>7869451730</td>\n",
       "      <td>2019-12-31 18:29:57.774</td>\n",
       "    </tr>\n",
       "    <tr>\n",
       "      <td>1177246</td>\n",
       "      <td>8077510191_41083</td>\n",
       "      <td>2019-12-31 18:29:58.380</td>\n",
       "    </tr>\n",
       "    <tr>\n",
       "      <td>1177247</td>\n",
       "      <td>8077510191_41083</td>\n",
       "      <td>2019-12-31 18:29:58.387</td>\n",
       "    </tr>\n",
       "    <tr>\n",
       "      <td>1177248</td>\n",
       "      <td>8077510191_41083</td>\n",
       "      <td>2019-12-31 18:29:58.393</td>\n",
       "    </tr>\n",
       "    <tr>\n",
       "      <td>1177249</td>\n",
       "      <td>8077510191_41083</td>\n",
       "      <td>2019-12-31 18:29:58.524</td>\n",
       "    </tr>\n",
       "  </tbody>\n",
       "</table>\n",
       "<p>30351879 rows × 2 columns</p>\n",
       "</div>"
      ],
      "text/plain": [
       "                           UserName             CreatedDate\n",
       "0        8871888734-piyush jaishwal 2019-11-30 18:30:00.429\n",
       "1                        8218816084 2019-11-30 18:30:01.077\n",
       "2          9424445828-Narendra Sahu 2019-11-30 18:30:01.082\n",
       "3                        8218816084 2019-11-30 18:30:01.087\n",
       "4                        8218816084 2019-11-30 18:30:01.119\n",
       "...                             ...                     ...\n",
       "1177245                  7869451730 2019-12-31 18:29:57.774\n",
       "1177246            8077510191_41083 2019-12-31 18:29:58.380\n",
       "1177247            8077510191_41083 2019-12-31 18:29:58.387\n",
       "1177248            8077510191_41083 2019-12-31 18:29:58.393\n",
       "1177249            8077510191_41083 2019-12-31 18:29:58.524\n",
       "\n",
       "[30351879 rows x 2 columns]"
      ]
     },
     "execution_count": 13,
     "metadata": {},
     "output_type": "execute_result"
    }
   ],
   "source": [
    "df"
   ]
  },
  {
   "cell_type": "code",
   "execution_count": null,
   "metadata": {},
   "outputs": [],
   "source": []
  },
  {
   "cell_type": "code",
   "execution_count": 14,
   "metadata": {},
   "outputs": [],
   "source": [
    "df1 = df.dropna().copy()"
   ]
  },
  {
   "cell_type": "code",
   "execution_count": null,
   "metadata": {},
   "outputs": [],
   "source": []
  },
  {
   "cell_type": "code",
   "execution_count": 15,
   "metadata": {},
   "outputs": [
    {
     "data": {
      "text/html": [
       "<div>\n",
       "<style scoped>\n",
       "    .dataframe tbody tr th:only-of-type {\n",
       "        vertical-align: middle;\n",
       "    }\n",
       "\n",
       "    .dataframe tbody tr th {\n",
       "        vertical-align: top;\n",
       "    }\n",
       "\n",
       "    .dataframe thead th {\n",
       "        text-align: right;\n",
       "    }\n",
       "</style>\n",
       "<table border=\"1\" class=\"dataframe\">\n",
       "  <thead>\n",
       "    <tr style=\"text-align: right;\">\n",
       "      <th></th>\n",
       "      <th>UserName</th>\n",
       "      <th>CreatedDate</th>\n",
       "    </tr>\n",
       "  </thead>\n",
       "  <tbody>\n",
       "    <tr>\n",
       "      <td>0</td>\n",
       "      <td>8871888734-piyush jaishwal</td>\n",
       "      <td>2019-11-30 18:30:00.429</td>\n",
       "    </tr>\n",
       "    <tr>\n",
       "      <td>1</td>\n",
       "      <td>8218816084</td>\n",
       "      <td>2019-11-30 18:30:01.077</td>\n",
       "    </tr>\n",
       "    <tr>\n",
       "      <td>2</td>\n",
       "      <td>9424445828-Narendra Sahu</td>\n",
       "      <td>2019-11-30 18:30:01.082</td>\n",
       "    </tr>\n",
       "    <tr>\n",
       "      <td>3</td>\n",
       "      <td>8218816084</td>\n",
       "      <td>2019-11-30 18:30:01.087</td>\n",
       "    </tr>\n",
       "    <tr>\n",
       "      <td>4</td>\n",
       "      <td>8218816084</td>\n",
       "      <td>2019-11-30 18:30:01.119</td>\n",
       "    </tr>\n",
       "    <tr>\n",
       "      <td>...</td>\n",
       "      <td>...</td>\n",
       "      <td>...</td>\n",
       "    </tr>\n",
       "    <tr>\n",
       "      <td>1177245</td>\n",
       "      <td>7869451730</td>\n",
       "      <td>2019-12-31 18:29:57.774</td>\n",
       "    </tr>\n",
       "    <tr>\n",
       "      <td>1177246</td>\n",
       "      <td>8077510191_41083</td>\n",
       "      <td>2019-12-31 18:29:58.380</td>\n",
       "    </tr>\n",
       "    <tr>\n",
       "      <td>1177247</td>\n",
       "      <td>8077510191_41083</td>\n",
       "      <td>2019-12-31 18:29:58.387</td>\n",
       "    </tr>\n",
       "    <tr>\n",
       "      <td>1177248</td>\n",
       "      <td>8077510191_41083</td>\n",
       "      <td>2019-12-31 18:29:58.393</td>\n",
       "    </tr>\n",
       "    <tr>\n",
       "      <td>1177249</td>\n",
       "      <td>8077510191_41083</td>\n",
       "      <td>2019-12-31 18:29:58.524</td>\n",
       "    </tr>\n",
       "  </tbody>\n",
       "</table>\n",
       "<p>29358543 rows × 2 columns</p>\n",
       "</div>"
      ],
      "text/plain": [
       "                           UserName             CreatedDate\n",
       "0        8871888734-piyush jaishwal 2019-11-30 18:30:00.429\n",
       "1                        8218816084 2019-11-30 18:30:01.077\n",
       "2          9424445828-Narendra Sahu 2019-11-30 18:30:01.082\n",
       "3                        8218816084 2019-11-30 18:30:01.087\n",
       "4                        8218816084 2019-11-30 18:30:01.119\n",
       "...                             ...                     ...\n",
       "1177245                  7869451730 2019-12-31 18:29:57.774\n",
       "1177246            8077510191_41083 2019-12-31 18:29:58.380\n",
       "1177247            8077510191_41083 2019-12-31 18:29:58.387\n",
       "1177248            8077510191_41083 2019-12-31 18:29:58.393\n",
       "1177249            8077510191_41083 2019-12-31 18:29:58.524\n",
       "\n",
       "[29358543 rows x 2 columns]"
      ]
     },
     "execution_count": 15,
     "metadata": {},
     "output_type": "execute_result"
    }
   ],
   "source": [
    "df1"
   ]
  },
  {
   "cell_type": "code",
   "execution_count": null,
   "metadata": {},
   "outputs": [],
   "source": []
  },
  {
   "cell_type": "code",
   "execution_count": 16,
   "metadata": {},
   "outputs": [],
   "source": [
    "df1[\"new_date\"] = [d.date() for d in df1['CreatedDate']]\n",
    "df1[\"new_time\"] = [d.time() for d in df1['CreatedDate']]"
   ]
  },
  {
   "cell_type": "code",
   "execution_count": null,
   "metadata": {},
   "outputs": [],
   "source": []
  },
  {
   "cell_type": "code",
   "execution_count": null,
   "metadata": {},
   "outputs": [],
   "source": []
  },
  {
   "cell_type": "code",
   "execution_count": 17,
   "metadata": {},
   "outputs": [
    {
     "data": {
      "text/plain": [
       "0         2019-11-30\n",
       "1         2019-11-30\n",
       "2         2019-11-30\n",
       "3         2019-11-30\n",
       "4         2019-11-30\n",
       "             ...    \n",
       "1177245   2019-12-31\n",
       "1177246   2019-12-31\n",
       "1177247   2019-12-31\n",
       "1177248   2019-12-31\n",
       "1177249   2019-12-31\n",
       "Name: new_date, Length: 29358543, dtype: datetime64[ns]"
      ]
     },
     "execution_count": 17,
     "metadata": {},
     "output_type": "execute_result"
    }
   ],
   "source": [
    "df1['new_date'].apply(pd.to_datetime)"
   ]
  },
  {
   "cell_type": "code",
   "execution_count": null,
   "metadata": {},
   "outputs": [],
   "source": []
  },
  {
   "cell_type": "code",
   "execution_count": null,
   "metadata": {},
   "outputs": [],
   "source": []
  },
  {
   "cell_type": "code",
   "execution_count": 18,
   "metadata": {},
   "outputs": [],
   "source": [
    "df1.to_csv('Dataset2.csv') "
   ]
  },
  {
   "cell_type": "code",
   "execution_count": null,
   "metadata": {},
   "outputs": [],
   "source": []
  },
  {
   "cell_type": "code",
   "execution_count": 19,
   "metadata": {},
   "outputs": [],
   "source": [
    "#df1 = pd.read_csv('Dataset2.csv')"
   ]
  },
  {
   "cell_type": "code",
   "execution_count": null,
   "metadata": {},
   "outputs": [],
   "source": []
  },
  {
   "cell_type": "code",
   "execution_count": 20,
   "metadata": {},
   "outputs": [
    {
     "data": {
      "text/html": [
       "<div>\n",
       "<style scoped>\n",
       "    .dataframe tbody tr th:only-of-type {\n",
       "        vertical-align: middle;\n",
       "    }\n",
       "\n",
       "    .dataframe tbody tr th {\n",
       "        vertical-align: top;\n",
       "    }\n",
       "\n",
       "    .dataframe thead th {\n",
       "        text-align: right;\n",
       "    }\n",
       "</style>\n",
       "<table border=\"1\" class=\"dataframe\">\n",
       "  <thead>\n",
       "    <tr style=\"text-align: right;\">\n",
       "      <th></th>\n",
       "      <th>UserName</th>\n",
       "      <th>CreatedDate</th>\n",
       "      <th>new_date</th>\n",
       "      <th>new_time</th>\n",
       "    </tr>\n",
       "  </thead>\n",
       "  <tbody>\n",
       "    <tr>\n",
       "      <td>0</td>\n",
       "      <td>8871888734-piyush jaishwal</td>\n",
       "      <td>2019-11-30 18:30:00.429</td>\n",
       "      <td>2019-11-30</td>\n",
       "      <td>18:30:00.429000</td>\n",
       "    </tr>\n",
       "    <tr>\n",
       "      <td>1</td>\n",
       "      <td>8218816084</td>\n",
       "      <td>2019-11-30 18:30:01.077</td>\n",
       "      <td>2019-11-30</td>\n",
       "      <td>18:30:01.077000</td>\n",
       "    </tr>\n",
       "    <tr>\n",
       "      <td>2</td>\n",
       "      <td>9424445828-Narendra Sahu</td>\n",
       "      <td>2019-11-30 18:30:01.082</td>\n",
       "      <td>2019-11-30</td>\n",
       "      <td>18:30:01.082000</td>\n",
       "    </tr>\n",
       "    <tr>\n",
       "      <td>3</td>\n",
       "      <td>8218816084</td>\n",
       "      <td>2019-11-30 18:30:01.087</td>\n",
       "      <td>2019-11-30</td>\n",
       "      <td>18:30:01.087000</td>\n",
       "    </tr>\n",
       "    <tr>\n",
       "      <td>4</td>\n",
       "      <td>8218816084</td>\n",
       "      <td>2019-11-30 18:30:01.119</td>\n",
       "      <td>2019-11-30</td>\n",
       "      <td>18:30:01.119000</td>\n",
       "    </tr>\n",
       "    <tr>\n",
       "      <td>...</td>\n",
       "      <td>...</td>\n",
       "      <td>...</td>\n",
       "      <td>...</td>\n",
       "      <td>...</td>\n",
       "    </tr>\n",
       "    <tr>\n",
       "      <td>1177245</td>\n",
       "      <td>7869451730</td>\n",
       "      <td>2019-12-31 18:29:57.774</td>\n",
       "      <td>2019-12-31</td>\n",
       "      <td>18:29:57.774000</td>\n",
       "    </tr>\n",
       "    <tr>\n",
       "      <td>1177246</td>\n",
       "      <td>8077510191_41083</td>\n",
       "      <td>2019-12-31 18:29:58.380</td>\n",
       "      <td>2019-12-31</td>\n",
       "      <td>18:29:58.380000</td>\n",
       "    </tr>\n",
       "    <tr>\n",
       "      <td>1177247</td>\n",
       "      <td>8077510191_41083</td>\n",
       "      <td>2019-12-31 18:29:58.387</td>\n",
       "      <td>2019-12-31</td>\n",
       "      <td>18:29:58.387000</td>\n",
       "    </tr>\n",
       "    <tr>\n",
       "      <td>1177248</td>\n",
       "      <td>8077510191_41083</td>\n",
       "      <td>2019-12-31 18:29:58.393</td>\n",
       "      <td>2019-12-31</td>\n",
       "      <td>18:29:58.393000</td>\n",
       "    </tr>\n",
       "    <tr>\n",
       "      <td>1177249</td>\n",
       "      <td>8077510191_41083</td>\n",
       "      <td>2019-12-31 18:29:58.524</td>\n",
       "      <td>2019-12-31</td>\n",
       "      <td>18:29:58.524000</td>\n",
       "    </tr>\n",
       "  </tbody>\n",
       "</table>\n",
       "<p>29358543 rows × 4 columns</p>\n",
       "</div>"
      ],
      "text/plain": [
       "                           UserName             CreatedDate    new_date  \\\n",
       "0        8871888734-piyush jaishwal 2019-11-30 18:30:00.429  2019-11-30   \n",
       "1                        8218816084 2019-11-30 18:30:01.077  2019-11-30   \n",
       "2          9424445828-Narendra Sahu 2019-11-30 18:30:01.082  2019-11-30   \n",
       "3                        8218816084 2019-11-30 18:30:01.087  2019-11-30   \n",
       "4                        8218816084 2019-11-30 18:30:01.119  2019-11-30   \n",
       "...                             ...                     ...         ...   \n",
       "1177245                  7869451730 2019-12-31 18:29:57.774  2019-12-31   \n",
       "1177246            8077510191_41083 2019-12-31 18:29:58.380  2019-12-31   \n",
       "1177247            8077510191_41083 2019-12-31 18:29:58.387  2019-12-31   \n",
       "1177248            8077510191_41083 2019-12-31 18:29:58.393  2019-12-31   \n",
       "1177249            8077510191_41083 2019-12-31 18:29:58.524  2019-12-31   \n",
       "\n",
       "                new_time  \n",
       "0        18:30:00.429000  \n",
       "1        18:30:01.077000  \n",
       "2        18:30:01.082000  \n",
       "3        18:30:01.087000  \n",
       "4        18:30:01.119000  \n",
       "...                  ...  \n",
       "1177245  18:29:57.774000  \n",
       "1177246  18:29:58.380000  \n",
       "1177247  18:29:58.387000  \n",
       "1177248  18:29:58.393000  \n",
       "1177249  18:29:58.524000  \n",
       "\n",
       "[29358543 rows x 4 columns]"
      ]
     },
     "execution_count": 20,
     "metadata": {},
     "output_type": "execute_result"
    }
   ],
   "source": [
    "df1"
   ]
  },
  {
   "cell_type": "code",
   "execution_count": null,
   "metadata": {},
   "outputs": [],
   "source": []
  },
  {
   "cell_type": "code",
   "execution_count": 21,
   "metadata": {},
   "outputs": [],
   "source": [
    "a=df1.groupby('UserName')['new_date'].apply(set)\n",
    "b = a.to_frame()\n",
    "c = b.copy()\n"
   ]
  },
  {
   "cell_type": "code",
   "execution_count": null,
   "metadata": {},
   "outputs": [],
   "source": []
  },
  {
   "cell_type": "code",
   "execution_count": null,
   "metadata": {},
   "outputs": [],
   "source": []
  },
  {
   "cell_type": "code",
   "execution_count": 22,
   "metadata": {},
   "outputs": [],
   "source": [
    "c.to_csv('Dataset3.csv') "
   ]
  },
  {
   "cell_type": "code",
   "execution_count": null,
   "metadata": {},
   "outputs": [],
   "source": []
  },
  {
   "cell_type": "code",
   "execution_count": 23,
   "metadata": {},
   "outputs": [
    {
     "data": {
      "text/html": [
       "<div>\n",
       "<style scoped>\n",
       "    .dataframe tbody tr th:only-of-type {\n",
       "        vertical-align: middle;\n",
       "    }\n",
       "\n",
       "    .dataframe tbody tr th {\n",
       "        vertical-align: top;\n",
       "    }\n",
       "\n",
       "    .dataframe thead th {\n",
       "        text-align: right;\n",
       "    }\n",
       "</style>\n",
       "<table border=\"1\" class=\"dataframe\">\n",
       "  <thead>\n",
       "    <tr style=\"text-align: right;\">\n",
       "      <th></th>\n",
       "      <th>new_date</th>\n",
       "    </tr>\n",
       "    <tr>\n",
       "      <th>UserName</th>\n",
       "      <th></th>\n",
       "    </tr>\n",
       "  </thead>\n",
       "  <tbody>\n",
       "    <tr>\n",
       "      <td>-</td>\n",
       "      <td>{2019-12-22, 2019-12-21, 2019-12-28, 2019-12-1...</td>\n",
       "    </tr>\n",
       "    <tr>\n",
       "      <td>-Bheru Bhai</td>\n",
       "      <td>{2019-12-14}</td>\n",
       "    </tr>\n",
       "    <tr>\n",
       "      <td>1111122222</td>\n",
       "      <td>{2019-12-25, 2019-12-26, 2019-12-17, 2019-12-0...</td>\n",
       "    </tr>\n",
       "    <tr>\n",
       "      <td>2222233333-Agentqa test</td>\n",
       "      <td>{2019-12-27}</td>\n",
       "    </tr>\n",
       "    <tr>\n",
       "      <td>6000614093_0</td>\n",
       "      <td>{2019-12-28}</td>\n",
       "    </tr>\n",
       "    <tr>\n",
       "      <td>...</td>\n",
       "      <td>...</td>\n",
       "    </tr>\n",
       "    <tr>\n",
       "      <td>twh@shopKirana.com</td>\n",
       "      <td>{2019-12-04, 2019-12-05}</td>\n",
       "    </tr>\n",
       "    <tr>\n",
       "      <td>vijay2141</td>\n",
       "      <td>{2019-12-28, 2019-12-17, 2019-12-02, 2019-12-0...</td>\n",
       "    </tr>\n",
       "    <tr>\n",
       "      <td>vipin</td>\n",
       "      <td>{2019-12-22, 2019-12-21, 2019-12-28, 2019-12-1...</td>\n",
       "    </tr>\n",
       "    <tr>\n",
       "      <td>vishal@shopkirana.com</td>\n",
       "      <td>{2019-12-29, 2019-12-22, 2019-12-21, 2019-12-2...</td>\n",
       "    </tr>\n",
       "    <tr>\n",
       "      <td>vishnu.gautam@shopKirana.com</td>\n",
       "      <td>{2019-12-21, 2019-12-28, 2019-12-17, 2019-12-0...</td>\n",
       "    </tr>\n",
       "  </tbody>\n",
       "</table>\n",
       "<p>23982 rows × 1 columns</p>\n",
       "</div>"
      ],
      "text/plain": [
       "                                                                       new_date\n",
       "UserName                                                                       \n",
       "-                             {2019-12-22, 2019-12-21, 2019-12-28, 2019-12-1...\n",
       "-Bheru Bhai                                                        {2019-12-14}\n",
       "1111122222                    {2019-12-25, 2019-12-26, 2019-12-17, 2019-12-0...\n",
       "2222233333-Agentqa test                                            {2019-12-27}\n",
       "6000614093_0                                                       {2019-12-28}\n",
       "...                                                                         ...\n",
       "twh@shopKirana.com                                     {2019-12-04, 2019-12-05}\n",
       "vijay2141                     {2019-12-28, 2019-12-17, 2019-12-02, 2019-12-0...\n",
       "vipin                         {2019-12-22, 2019-12-21, 2019-12-28, 2019-12-1...\n",
       "vishal@shopkirana.com         {2019-12-29, 2019-12-22, 2019-12-21, 2019-12-2...\n",
       "vishnu.gautam@shopKirana.com  {2019-12-21, 2019-12-28, 2019-12-17, 2019-12-0...\n",
       "\n",
       "[23982 rows x 1 columns]"
      ]
     },
     "execution_count": 23,
     "metadata": {},
     "output_type": "execute_result"
    }
   ],
   "source": [
    "c"
   ]
  },
  {
   "cell_type": "code",
   "execution_count": 24,
   "metadata": {},
   "outputs": [],
   "source": [
    "c['avg'] = c.apply(lambda _: '', axis=1)\n",
    "c = c.reset_index()"
   ]
  },
  {
   "cell_type": "code",
   "execution_count": null,
   "metadata": {},
   "outputs": [],
   "source": []
  },
  {
   "cell_type": "code",
   "execution_count": 25,
   "metadata": {},
   "outputs": [
    {
     "data": {
      "text/html": [
       "<div>\n",
       "<style scoped>\n",
       "    .dataframe tbody tr th:only-of-type {\n",
       "        vertical-align: middle;\n",
       "    }\n",
       "\n",
       "    .dataframe tbody tr th {\n",
       "        vertical-align: top;\n",
       "    }\n",
       "\n",
       "    .dataframe thead th {\n",
       "        text-align: right;\n",
       "    }\n",
       "</style>\n",
       "<table border=\"1\" class=\"dataframe\">\n",
       "  <thead>\n",
       "    <tr style=\"text-align: right;\">\n",
       "      <th></th>\n",
       "      <th>UserName</th>\n",
       "      <th>new_date</th>\n",
       "      <th>avg</th>\n",
       "    </tr>\n",
       "  </thead>\n",
       "  <tbody>\n",
       "    <tr>\n",
       "      <td>0</td>\n",
       "      <td>-</td>\n",
       "      <td>{2019-12-22, 2019-12-21, 2019-12-28, 2019-12-1...</td>\n",
       "      <td></td>\n",
       "    </tr>\n",
       "    <tr>\n",
       "      <td>1</td>\n",
       "      <td>-Bheru Bhai</td>\n",
       "      <td>{2019-12-14}</td>\n",
       "      <td></td>\n",
       "    </tr>\n",
       "    <tr>\n",
       "      <td>2</td>\n",
       "      <td>1111122222</td>\n",
       "      <td>{2019-12-25, 2019-12-26, 2019-12-17, 2019-12-0...</td>\n",
       "      <td></td>\n",
       "    </tr>\n",
       "    <tr>\n",
       "      <td>3</td>\n",
       "      <td>2222233333-Agentqa test</td>\n",
       "      <td>{2019-12-27}</td>\n",
       "      <td></td>\n",
       "    </tr>\n",
       "    <tr>\n",
       "      <td>4</td>\n",
       "      <td>6000614093_0</td>\n",
       "      <td>{2019-12-28}</td>\n",
       "      <td></td>\n",
       "    </tr>\n",
       "  </tbody>\n",
       "</table>\n",
       "</div>"
      ],
      "text/plain": [
       "                  UserName                                           new_date  \\\n",
       "0                        -  {2019-12-22, 2019-12-21, 2019-12-28, 2019-12-1...   \n",
       "1              -Bheru Bhai                                       {2019-12-14}   \n",
       "2               1111122222  {2019-12-25, 2019-12-26, 2019-12-17, 2019-12-0...   \n",
       "3  2222233333-Agentqa test                                       {2019-12-27}   \n",
       "4             6000614093_0                                       {2019-12-28}   \n",
       "\n",
       "  avg  \n",
       "0      \n",
       "1      \n",
       "2      \n",
       "3      \n",
       "4      "
      ]
     },
     "execution_count": 25,
     "metadata": {},
     "output_type": "execute_result"
    }
   ],
   "source": [
    "#a=df1.groupby('UserName')['new_date'].apply(set)\n",
    "c.head()"
   ]
  },
  {
   "cell_type": "code",
   "execution_count": null,
   "metadata": {},
   "outputs": [],
   "source": []
  },
  {
   "cell_type": "code",
   "execution_count": 26,
   "metadata": {},
   "outputs": [],
   "source": [
    "c['date'] = [list(d) for d in c['new_date']]"
   ]
  },
  {
   "cell_type": "code",
   "execution_count": 27,
   "metadata": {},
   "outputs": [
    {
     "data": {
      "text/html": [
       "<div>\n",
       "<style scoped>\n",
       "    .dataframe tbody tr th:only-of-type {\n",
       "        vertical-align: middle;\n",
       "    }\n",
       "\n",
       "    .dataframe tbody tr th {\n",
       "        vertical-align: top;\n",
       "    }\n",
       "\n",
       "    .dataframe thead th {\n",
       "        text-align: right;\n",
       "    }\n",
       "</style>\n",
       "<table border=\"1\" class=\"dataframe\">\n",
       "  <thead>\n",
       "    <tr style=\"text-align: right;\">\n",
       "      <th></th>\n",
       "      <th>UserName</th>\n",
       "      <th>new_date</th>\n",
       "      <th>avg</th>\n",
       "      <th>date</th>\n",
       "    </tr>\n",
       "  </thead>\n",
       "  <tbody>\n",
       "    <tr>\n",
       "      <td>0</td>\n",
       "      <td>-</td>\n",
       "      <td>{2019-12-22, 2019-12-21, 2019-12-28, 2019-12-1...</td>\n",
       "      <td></td>\n",
       "      <td>[2019-12-22, 2019-12-21, 2019-12-28, 2019-12-1...</td>\n",
       "    </tr>\n",
       "    <tr>\n",
       "      <td>1</td>\n",
       "      <td>-Bheru Bhai</td>\n",
       "      <td>{2019-12-14}</td>\n",
       "      <td></td>\n",
       "      <td>[2019-12-14]</td>\n",
       "    </tr>\n",
       "    <tr>\n",
       "      <td>2</td>\n",
       "      <td>1111122222</td>\n",
       "      <td>{2019-12-25, 2019-12-26, 2019-12-17, 2019-12-0...</td>\n",
       "      <td></td>\n",
       "      <td>[2019-12-25, 2019-12-26, 2019-12-17, 2019-12-0...</td>\n",
       "    </tr>\n",
       "    <tr>\n",
       "      <td>3</td>\n",
       "      <td>2222233333-Agentqa test</td>\n",
       "      <td>{2019-12-27}</td>\n",
       "      <td></td>\n",
       "      <td>[2019-12-27]</td>\n",
       "    </tr>\n",
       "    <tr>\n",
       "      <td>4</td>\n",
       "      <td>6000614093_0</td>\n",
       "      <td>{2019-12-28}</td>\n",
       "      <td></td>\n",
       "      <td>[2019-12-28]</td>\n",
       "    </tr>\n",
       "    <tr>\n",
       "      <td>...</td>\n",
       "      <td>...</td>\n",
       "      <td>...</td>\n",
       "      <td>...</td>\n",
       "      <td>...</td>\n",
       "    </tr>\n",
       "    <tr>\n",
       "      <td>23977</td>\n",
       "      <td>twh@shopKirana.com</td>\n",
       "      <td>{2019-12-04, 2019-12-05}</td>\n",
       "      <td></td>\n",
       "      <td>[2019-12-04, 2019-12-05]</td>\n",
       "    </tr>\n",
       "    <tr>\n",
       "      <td>23978</td>\n",
       "      <td>vijay2141</td>\n",
       "      <td>{2019-12-28, 2019-12-17, 2019-12-02, 2019-12-0...</td>\n",
       "      <td></td>\n",
       "      <td>[2019-12-28, 2019-12-17, 2019-12-02, 2019-12-0...</td>\n",
       "    </tr>\n",
       "    <tr>\n",
       "      <td>23979</td>\n",
       "      <td>vipin</td>\n",
       "      <td>{2019-12-22, 2019-12-21, 2019-12-28, 2019-12-1...</td>\n",
       "      <td></td>\n",
       "      <td>[2019-12-22, 2019-12-21, 2019-12-28, 2019-12-1...</td>\n",
       "    </tr>\n",
       "    <tr>\n",
       "      <td>23980</td>\n",
       "      <td>vishal@shopkirana.com</td>\n",
       "      <td>{2019-12-29, 2019-12-22, 2019-12-21, 2019-12-2...</td>\n",
       "      <td></td>\n",
       "      <td>[2019-12-29, 2019-12-22, 2019-12-21, 2019-12-2...</td>\n",
       "    </tr>\n",
       "    <tr>\n",
       "      <td>23981</td>\n",
       "      <td>vishnu.gautam@shopKirana.com</td>\n",
       "      <td>{2019-12-21, 2019-12-28, 2019-12-17, 2019-12-0...</td>\n",
       "      <td></td>\n",
       "      <td>[2019-12-21, 2019-12-28, 2019-12-17, 2019-12-0...</td>\n",
       "    </tr>\n",
       "  </tbody>\n",
       "</table>\n",
       "<p>23982 rows × 4 columns</p>\n",
       "</div>"
      ],
      "text/plain": [
       "                           UserName  \\\n",
       "0                                 -   \n",
       "1                       -Bheru Bhai   \n",
       "2                        1111122222   \n",
       "3           2222233333-Agentqa test   \n",
       "4                      6000614093_0   \n",
       "...                             ...   \n",
       "23977            twh@shopKirana.com   \n",
       "23978                     vijay2141   \n",
       "23979                         vipin   \n",
       "23980         vishal@shopkirana.com   \n",
       "23981  vishnu.gautam@shopKirana.com   \n",
       "\n",
       "                                                new_date avg  \\\n",
       "0      {2019-12-22, 2019-12-21, 2019-12-28, 2019-12-1...       \n",
       "1                                           {2019-12-14}       \n",
       "2      {2019-12-25, 2019-12-26, 2019-12-17, 2019-12-0...       \n",
       "3                                           {2019-12-27}       \n",
       "4                                           {2019-12-28}       \n",
       "...                                                  ...  ..   \n",
       "23977                           {2019-12-04, 2019-12-05}       \n",
       "23978  {2019-12-28, 2019-12-17, 2019-12-02, 2019-12-0...       \n",
       "23979  {2019-12-22, 2019-12-21, 2019-12-28, 2019-12-1...       \n",
       "23980  {2019-12-29, 2019-12-22, 2019-12-21, 2019-12-2...       \n",
       "23981  {2019-12-21, 2019-12-28, 2019-12-17, 2019-12-0...       \n",
       "\n",
       "                                                    date  \n",
       "0      [2019-12-22, 2019-12-21, 2019-12-28, 2019-12-1...  \n",
       "1                                           [2019-12-14]  \n",
       "2      [2019-12-25, 2019-12-26, 2019-12-17, 2019-12-0...  \n",
       "3                                           [2019-12-27]  \n",
       "4                                           [2019-12-28]  \n",
       "...                                                  ...  \n",
       "23977                           [2019-12-04, 2019-12-05]  \n",
       "23978  [2019-12-28, 2019-12-17, 2019-12-02, 2019-12-0...  \n",
       "23979  [2019-12-22, 2019-12-21, 2019-12-28, 2019-12-1...  \n",
       "23980  [2019-12-29, 2019-12-22, 2019-12-21, 2019-12-2...  \n",
       "23981  [2019-12-21, 2019-12-28, 2019-12-17, 2019-12-0...  \n",
       "\n",
       "[23982 rows x 4 columns]"
      ]
     },
     "execution_count": 27,
     "metadata": {},
     "output_type": "execute_result"
    }
   ],
   "source": [
    "c"
   ]
  },
  {
   "cell_type": "code",
   "execution_count": null,
   "metadata": {},
   "outputs": [],
   "source": []
  },
  {
   "cell_type": "code",
   "execution_count": 28,
   "metadata": {},
   "outputs": [],
   "source": [
    "#c['date1'] = [d.sort() for d in c['date']]"
   ]
  },
  {
   "cell_type": "code",
   "execution_count": 29,
   "metadata": {},
   "outputs": [
    {
     "data": {
      "text/plain": [
       "{datetime.date(2019, 12, 30)}"
      ]
     },
     "execution_count": 29,
     "metadata": {},
     "output_type": "execute_result"
    }
   ],
   "source": [
    "c.iloc[19758][1]"
   ]
  },
  {
   "cell_type": "code",
   "execution_count": null,
   "metadata": {},
   "outputs": [],
   "source": []
  },
  {
   "cell_type": "code",
   "execution_count": null,
   "metadata": {},
   "outputs": [],
   "source": []
  },
  {
   "cell_type": "markdown",
   "metadata": {},
   "source": [
    "## Finding intervals at which the customer login"
   ]
  },
  {
   "cell_type": "code",
   "execution_count": null,
   "metadata": {},
   "outputs": [],
   "source": []
  },
  {
   "cell_type": "code",
   "execution_count": 31,
   "metadata": {},
   "outputs": [],
   "source": [
    "for i in range(len(c)) :\n",
    "    l = (c.iloc[i, 3]) \n",
    "    for j in range(len(l)-1):\n",
    "        tstamp1 = l[j]\n",
    "        tstamp2 = l[j+1]\n",
    "        if tstamp1 > tstamp2:\n",
    "            td = tstamp1 - tstamp2\n",
    "        else:\n",
    "            td = tstamp2 - tstamp1\n",
    "        l[j] = td.days\n",
    "    l1 = l[0:len(l)-1]\n",
    "    if (len(l1)!=0):\n",
    "        avg = sum(l1)/(len(l1))\n",
    "        c.iloc[i,2] = avg\n",
    "    else :\n",
    "        c.iloc[i,2] = 0\n",
    "        \n",
    "        "
   ]
  },
  {
   "cell_type": "code",
   "execution_count": null,
   "metadata": {},
   "outputs": [],
   "source": []
  },
  {
   "cell_type": "code",
   "execution_count": 32,
   "metadata": {},
   "outputs": [
    {
     "data": {
      "text/html": [
       "<div>\n",
       "<style scoped>\n",
       "    .dataframe tbody tr th:only-of-type {\n",
       "        vertical-align: middle;\n",
       "    }\n",
       "\n",
       "    .dataframe tbody tr th {\n",
       "        vertical-align: top;\n",
       "    }\n",
       "\n",
       "    .dataframe thead th {\n",
       "        text-align: right;\n",
       "    }\n",
       "</style>\n",
       "<table border=\"1\" class=\"dataframe\">\n",
       "  <thead>\n",
       "    <tr style=\"text-align: right;\">\n",
       "      <th></th>\n",
       "      <th>UserName</th>\n",
       "      <th>new_date</th>\n",
       "      <th>avg</th>\n",
       "      <th>date</th>\n",
       "    </tr>\n",
       "  </thead>\n",
       "  <tbody>\n",
       "    <tr>\n",
       "      <td>0</td>\n",
       "      <td>-</td>\n",
       "      <td>{2019-12-22, 2019-12-21, 2019-12-28, 2019-12-1...</td>\n",
       "      <td>9.6129</td>\n",
       "      <td>[1, 7, 11, 15, 28, 21, 2, 7, 14, 8, 17, 1, 7, ...</td>\n",
       "    </tr>\n",
       "    <tr>\n",
       "      <td>1</td>\n",
       "      <td>-Bheru Bhai</td>\n",
       "      <td>{2019-12-14}</td>\n",
       "      <td>0</td>\n",
       "      <td>[2019-12-14]</td>\n",
       "    </tr>\n",
       "    <tr>\n",
       "      <td>2</td>\n",
       "      <td>1111122222</td>\n",
       "      <td>{2019-12-25, 2019-12-26, 2019-12-17, 2019-12-0...</td>\n",
       "      <td>10.875</td>\n",
       "      <td>[1, 9, 15, 3, 22, 23, 1, 13, 2019-12-16]</td>\n",
       "    </tr>\n",
       "    <tr>\n",
       "      <td>3</td>\n",
       "      <td>2222233333-Agentqa test</td>\n",
       "      <td>{2019-12-27}</td>\n",
       "      <td>0</td>\n",
       "      <td>[2019-12-27]</td>\n",
       "    </tr>\n",
       "    <tr>\n",
       "      <td>4</td>\n",
       "      <td>6000614093_0</td>\n",
       "      <td>{2019-12-28}</td>\n",
       "      <td>0</td>\n",
       "      <td>[2019-12-28]</td>\n",
       "    </tr>\n",
       "    <tr>\n",
       "      <td>...</td>\n",
       "      <td>...</td>\n",
       "      <td>...</td>\n",
       "      <td>...</td>\n",
       "      <td>...</td>\n",
       "    </tr>\n",
       "    <tr>\n",
       "      <td>23977</td>\n",
       "      <td>twh@shopKirana.com</td>\n",
       "      <td>{2019-12-04, 2019-12-05}</td>\n",
       "      <td>1</td>\n",
       "      <td>[1, 2019-12-05]</td>\n",
       "    </tr>\n",
       "    <tr>\n",
       "      <td>23978</td>\n",
       "      <td>vijay2141</td>\n",
       "      <td>{2019-12-28, 2019-12-17, 2019-12-02, 2019-12-0...</td>\n",
       "      <td>9.2</td>\n",
       "      <td>[11, 15, 7, 2, 7, 8, 17, 1, 7, 28, 15, 1, 4, 1...</td>\n",
       "    </tr>\n",
       "    <tr>\n",
       "      <td>23979</td>\n",
       "      <td>vipin</td>\n",
       "      <td>{2019-12-22, 2019-12-21, 2019-12-28, 2019-12-1...</td>\n",
       "      <td>10.4</td>\n",
       "      <td>[1, 7, 11, 15, 28, 21, 5, 9, 1, 7, 28, 15, 1, ...</td>\n",
       "    </tr>\n",
       "    <tr>\n",
       "      <td>23980</td>\n",
       "      <td>vishal@shopkirana.com</td>\n",
       "      <td>{2019-12-29, 2019-12-22, 2019-12-21, 2019-12-2...</td>\n",
       "      <td>4.90909</td>\n",
       "      <td>[7, 1, 4, 3, 4, 7, 13, 1, 11, 2, 1, 2019-12-19]</td>\n",
       "    </tr>\n",
       "    <tr>\n",
       "      <td>23981</td>\n",
       "      <td>vishnu.gautam@shopKirana.com</td>\n",
       "      <td>{2019-12-21, 2019-12-28, 2019-12-17, 2019-12-0...</td>\n",
       "      <td>10.037</td>\n",
       "      <td>[7, 11, 15, 28, 21, 2, 7, 8, 17, 1, 7, 4, 24, ...</td>\n",
       "    </tr>\n",
       "  </tbody>\n",
       "</table>\n",
       "<p>23982 rows × 4 columns</p>\n",
       "</div>"
      ],
      "text/plain": [
       "                           UserName  \\\n",
       "0                                 -   \n",
       "1                       -Bheru Bhai   \n",
       "2                        1111122222   \n",
       "3           2222233333-Agentqa test   \n",
       "4                      6000614093_0   \n",
       "...                             ...   \n",
       "23977            twh@shopKirana.com   \n",
       "23978                     vijay2141   \n",
       "23979                         vipin   \n",
       "23980         vishal@shopkirana.com   \n",
       "23981  vishnu.gautam@shopKirana.com   \n",
       "\n",
       "                                                new_date      avg  \\\n",
       "0      {2019-12-22, 2019-12-21, 2019-12-28, 2019-12-1...   9.6129   \n",
       "1                                           {2019-12-14}        0   \n",
       "2      {2019-12-25, 2019-12-26, 2019-12-17, 2019-12-0...   10.875   \n",
       "3                                           {2019-12-27}        0   \n",
       "4                                           {2019-12-28}        0   \n",
       "...                                                  ...      ...   \n",
       "23977                           {2019-12-04, 2019-12-05}        1   \n",
       "23978  {2019-12-28, 2019-12-17, 2019-12-02, 2019-12-0...      9.2   \n",
       "23979  {2019-12-22, 2019-12-21, 2019-12-28, 2019-12-1...     10.4   \n",
       "23980  {2019-12-29, 2019-12-22, 2019-12-21, 2019-12-2...  4.90909   \n",
       "23981  {2019-12-21, 2019-12-28, 2019-12-17, 2019-12-0...   10.037   \n",
       "\n",
       "                                                    date  \n",
       "0      [1, 7, 11, 15, 28, 21, 2, 7, 14, 8, 17, 1, 7, ...  \n",
       "1                                           [2019-12-14]  \n",
       "2               [1, 9, 15, 3, 22, 23, 1, 13, 2019-12-16]  \n",
       "3                                           [2019-12-27]  \n",
       "4                                           [2019-12-28]  \n",
       "...                                                  ...  \n",
       "23977                                    [1, 2019-12-05]  \n",
       "23978  [11, 15, 7, 2, 7, 8, 17, 1, 7, 28, 15, 1, 4, 1...  \n",
       "23979  [1, 7, 11, 15, 28, 21, 5, 9, 1, 7, 28, 15, 1, ...  \n",
       "23980    [7, 1, 4, 3, 4, 7, 13, 1, 11, 2, 1, 2019-12-19]  \n",
       "23981  [7, 11, 15, 28, 21, 2, 7, 8, 17, 1, 7, 4, 24, ...  \n",
       "\n",
       "[23982 rows x 4 columns]"
      ]
     },
     "execution_count": 32,
     "metadata": {},
     "output_type": "execute_result"
    }
   ],
   "source": [
    "c"
   ]
  },
  {
   "cell_type": "code",
   "execution_count": null,
   "metadata": {},
   "outputs": [],
   "source": []
  },
  {
   "cell_type": "code",
   "execution_count": 33,
   "metadata": {},
   "outputs": [],
   "source": [
    "c.to_csv('Dataset_with date set.csv') "
   ]
  },
  {
   "cell_type": "code",
   "execution_count": 34,
   "metadata": {},
   "outputs": [],
   "source": [
    "c.to_excel('Dataset_with date set.xlsx')"
   ]
  },
  {
   "cell_type": "code",
   "execution_count": null,
   "metadata": {},
   "outputs": [],
   "source": []
  },
  {
   "cell_type": "code",
   "execution_count": null,
   "metadata": {},
   "outputs": [],
   "source": []
  },
  {
   "cell_type": "code",
   "execution_count": 35,
   "metadata": {},
   "outputs": [],
   "source": [
    "c1 = c[['UserName','avg']]\n"
   ]
  },
  {
   "cell_type": "code",
   "execution_count": 36,
   "metadata": {},
   "outputs": [
    {
     "data": {
      "text/html": [
       "<div>\n",
       "<style scoped>\n",
       "    .dataframe tbody tr th:only-of-type {\n",
       "        vertical-align: middle;\n",
       "    }\n",
       "\n",
       "    .dataframe tbody tr th {\n",
       "        vertical-align: top;\n",
       "    }\n",
       "\n",
       "    .dataframe thead th {\n",
       "        text-align: right;\n",
       "    }\n",
       "</style>\n",
       "<table border=\"1\" class=\"dataframe\">\n",
       "  <thead>\n",
       "    <tr style=\"text-align: right;\">\n",
       "      <th></th>\n",
       "      <th>UserName</th>\n",
       "      <th>avg</th>\n",
       "    </tr>\n",
       "  </thead>\n",
       "  <tbody>\n",
       "    <tr>\n",
       "      <td>0</td>\n",
       "      <td>-</td>\n",
       "      <td>9.6129</td>\n",
       "    </tr>\n",
       "    <tr>\n",
       "      <td>1</td>\n",
       "      <td>-Bheru Bhai</td>\n",
       "      <td>0</td>\n",
       "    </tr>\n",
       "    <tr>\n",
       "      <td>2</td>\n",
       "      <td>1111122222</td>\n",
       "      <td>10.875</td>\n",
       "    </tr>\n",
       "    <tr>\n",
       "      <td>3</td>\n",
       "      <td>2222233333-Agentqa test</td>\n",
       "      <td>0</td>\n",
       "    </tr>\n",
       "    <tr>\n",
       "      <td>4</td>\n",
       "      <td>6000614093_0</td>\n",
       "      <td>0</td>\n",
       "    </tr>\n",
       "    <tr>\n",
       "      <td>...</td>\n",
       "      <td>...</td>\n",
       "      <td>...</td>\n",
       "    </tr>\n",
       "    <tr>\n",
       "      <td>23977</td>\n",
       "      <td>twh@shopKirana.com</td>\n",
       "      <td>1</td>\n",
       "    </tr>\n",
       "    <tr>\n",
       "      <td>23978</td>\n",
       "      <td>vijay2141</td>\n",
       "      <td>9.2</td>\n",
       "    </tr>\n",
       "    <tr>\n",
       "      <td>23979</td>\n",
       "      <td>vipin</td>\n",
       "      <td>10.4</td>\n",
       "    </tr>\n",
       "    <tr>\n",
       "      <td>23980</td>\n",
       "      <td>vishal@shopkirana.com</td>\n",
       "      <td>4.90909</td>\n",
       "    </tr>\n",
       "    <tr>\n",
       "      <td>23981</td>\n",
       "      <td>vishnu.gautam@shopKirana.com</td>\n",
       "      <td>10.037</td>\n",
       "    </tr>\n",
       "  </tbody>\n",
       "</table>\n",
       "<p>23982 rows × 2 columns</p>\n",
       "</div>"
      ],
      "text/plain": [
       "                           UserName      avg\n",
       "0                                 -   9.6129\n",
       "1                       -Bheru Bhai        0\n",
       "2                        1111122222   10.875\n",
       "3           2222233333-Agentqa test        0\n",
       "4                      6000614093_0        0\n",
       "...                             ...      ...\n",
       "23977            twh@shopKirana.com        1\n",
       "23978                     vijay2141      9.2\n",
       "23979                         vipin     10.4\n",
       "23980         vishal@shopkirana.com  4.90909\n",
       "23981  vishnu.gautam@shopKirana.com   10.037\n",
       "\n",
       "[23982 rows x 2 columns]"
      ]
     },
     "execution_count": 36,
     "metadata": {},
     "output_type": "execute_result"
    }
   ],
   "source": [
    "c1"
   ]
  },
  {
   "cell_type": "code",
   "execution_count": null,
   "metadata": {},
   "outputs": [],
   "source": []
  },
  {
   "cell_type": "code",
   "execution_count": 37,
   "metadata": {},
   "outputs": [],
   "source": [
    "c2 = c1.sort_values('avg',ascending=False)"
   ]
  },
  {
   "cell_type": "code",
   "execution_count": null,
   "metadata": {},
   "outputs": [],
   "source": []
  },
  {
   "cell_type": "code",
   "execution_count": 38,
   "metadata": {},
   "outputs": [],
   "source": [
    "c3 = c1.sort_values('avg',ascending=True)"
   ]
  },
  {
   "cell_type": "code",
   "execution_count": null,
   "metadata": {},
   "outputs": [],
   "source": []
  },
  {
   "cell_type": "code",
   "execution_count": null,
   "metadata": {},
   "outputs": [],
   "source": []
  },
  {
   "cell_type": "code",
   "execution_count": null,
   "metadata": {},
   "outputs": [],
   "source": []
  },
  {
   "cell_type": "code",
   "execution_count": 39,
   "metadata": {},
   "outputs": [],
   "source": [
    "c3.to_csv('Dataset4_ascending.csv')"
   ]
  },
  {
   "cell_type": "code",
   "execution_count": 40,
   "metadata": {},
   "outputs": [],
   "source": [
    "c3.to_excel('Dataset4_ascending.xlsx')"
   ]
  },
  {
   "cell_type": "code",
   "execution_count": null,
   "metadata": {},
   "outputs": [],
   "source": []
  },
  {
   "cell_type": "code",
   "execution_count": 41,
   "metadata": {},
   "outputs": [],
   "source": [
    "c2.to_csv('Dataset4.csv') "
   ]
  },
  {
   "cell_type": "code",
   "execution_count": null,
   "metadata": {},
   "outputs": [],
   "source": []
  },
  {
   "cell_type": "code",
   "execution_count": 42,
   "metadata": {},
   "outputs": [],
   "source": [
    "c2.to_excel(\"Dataset4.xlsx\")"
   ]
  },
  {
   "cell_type": "code",
   "execution_count": null,
   "metadata": {},
   "outputs": [],
   "source": []
  },
  {
   "cell_type": "code",
   "execution_count": null,
   "metadata": {},
   "outputs": [],
   "source": []
  },
  {
   "cell_type": "code",
   "execution_count": null,
   "metadata": {},
   "outputs": [],
   "source": []
  },
  {
   "cell_type": "code",
   "execution_count": null,
   "metadata": {},
   "outputs": [],
   "source": []
  },
  {
   "cell_type": "code",
   "execution_count": null,
   "metadata": {},
   "outputs": [],
   "source": []
  },
  {
   "cell_type": "code",
   "execution_count": null,
   "metadata": {},
   "outputs": [],
   "source": []
  },
  {
   "cell_type": "code",
   "execution_count": null,
   "metadata": {},
   "outputs": [],
   "source": []
  },
  {
   "cell_type": "code",
   "execution_count": null,
   "metadata": {},
   "outputs": [],
   "source": []
  },
  {
   "cell_type": "code",
   "execution_count": null,
   "metadata": {},
   "outputs": [],
   "source": [
    "# Insert Data \n",
    "# rec_id1 = collection.insert_one(emp_rec1) \n",
    "# rec_id2 = collection.insert_one(emp_rec2) \n",
    "  "
   ]
  },
  {
   "cell_type": "code",
   "execution_count": null,
   "metadata": {},
   "outputs": [],
   "source": []
  },
  {
   "cell_type": "code",
   "execution_count": null,
   "metadata": {},
   "outputs": [],
   "source": [
    "# print(\"Data inserted with record ids\",rec_id1,\" \",rec_id2) \n"
   ]
  },
  {
   "cell_type": "code",
   "execution_count": null,
   "metadata": {},
   "outputs": [],
   "source": []
  },
  {
   "cell_type": "code",
   "execution_count": null,
   "metadata": {},
   "outputs": [],
   "source": []
  },
  {
   "cell_type": "code",
   "execution_count": null,
   "metadata": {},
   "outputs": [],
   "source": [
    "# Printing the data inserted \n",
    "# cursor = collection.find() \n",
    "# for record in cursor: \n",
    "#    print(record)"
   ]
  },
  {
   "cell_type": "code",
   "execution_count": null,
   "metadata": {},
   "outputs": [],
   "source": []
  },
  {
   "cell_type": "code",
   "execution_count": null,
   "metadata": {},
   "outputs": [],
   "source": []
  },
  {
   "cell_type": "code",
   "execution_count": null,
   "metadata": {},
   "outputs": [],
   "source": []
  },
  {
   "cell_type": "code",
   "execution_count": null,
   "metadata": {},
   "outputs": [],
   "source": []
  },
  {
   "cell_type": "code",
   "execution_count": null,
   "metadata": {},
   "outputs": [],
   "source": []
  },
  {
   "cell_type": "code",
   "execution_count": null,
   "metadata": {},
   "outputs": [],
   "source": []
  },
  {
   "cell_type": "code",
   "execution_count": null,
   "metadata": {},
   "outputs": [],
   "source": []
  },
  {
   "cell_type": "code",
   "execution_count": null,
   "metadata": {},
   "outputs": [],
   "source": []
  },
  {
   "cell_type": "code",
   "execution_count": null,
   "metadata": {},
   "outputs": [],
   "source": []
  },
  {
   "cell_type": "code",
   "execution_count": null,
   "metadata": {},
   "outputs": [],
   "source": []
  },
  {
   "cell_type": "code",
   "execution_count": null,
   "metadata": {},
   "outputs": [],
   "source": []
  },
  {
   "cell_type": "code",
   "execution_count": null,
   "metadata": {},
   "outputs": [],
   "source": []
  },
  {
   "cell_type": "code",
   "execution_count": null,
   "metadata": {},
   "outputs": [],
   "source": []
  },
  {
   "cell_type": "code",
   "execution_count": null,
   "metadata": {},
   "outputs": [],
   "source": []
  },
  {
   "cell_type": "code",
   "execution_count": null,
   "metadata": {},
   "outputs": [],
   "source": []
  },
  {
   "cell_type": "code",
   "execution_count": null,
   "metadata": {},
   "outputs": [],
   "source": []
  },
  {
   "cell_type": "code",
   "execution_count": null,
   "metadata": {},
   "outputs": [],
   "source": []
  },
  {
   "cell_type": "code",
   "execution_count": null,
   "metadata": {},
   "outputs": [],
   "source": []
  },
  {
   "cell_type": "code",
   "execution_count": null,
   "metadata": {},
   "outputs": [],
   "source": []
  },
  {
   "cell_type": "code",
   "execution_count": null,
   "metadata": {},
   "outputs": [],
   "source": []
  }
 ],
 "metadata": {
  "kernelspec": {
   "display_name": "Python 3",
   "language": "python",
   "name": "python3"
  },
  "language_info": {
   "codemirror_mode": {
    "name": "ipython",
    "version": 3
   },
   "file_extension": ".py",
   "mimetype": "text/x-python",
   "name": "python",
   "nbconvert_exporter": "python",
   "pygments_lexer": "ipython3",
   "version": "3.7.4"
  }
 },
 "nbformat": 4,
 "nbformat_minor": 4
}
